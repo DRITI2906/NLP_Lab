{
 "cells": [
  {
   "cell_type": "code",
   "execution_count": 2,
   "id": "e957020b",
   "metadata": {},
   "outputs": [],
   "source": [
    "import pandas as pd\n",
    "import re\n",
    "import ast\n",
    "from collections import Counter #count hashable objects"
   ]
  },
  {
   "cell_type": "code",
   "execution_count": 3,
   "id": "08785798",
   "metadata": {},
   "outputs": [],
   "source": [
    "df = pd.read_csv(\"../ass5/train.csv\")"
   ]
  },
  {
   "cell_type": "code",
   "execution_count": 4,
   "id": "d10df0ee",
   "metadata": {},
   "outputs": [],
   "source": [
    "def extract_texts(cell):\n",
    "    if isinstance(cell, str):\n",
    "        try:\n",
    "            cell = ast.literal_eval(cell)  # parse string repr of list/dict\n",
    "        except:\n",
    "            return []\n",
    "    if isinstance(cell, list):\n",
    "        return [d.get(\"text\", \"\") for d in cell if isinstance(d, dict)]\n",
    "    return []\n",
    "\n",
    "all_sentences = []\n",
    "for row in df[\"sentence\"]:\n",
    "    all_sentences.extend(extract_texts(row))"
   ]
  },
  {
   "cell_type": "code",
   "execution_count": 5,
   "id": "9b7c6d5d",
   "metadata": {},
   "outputs": [],
   "source": [
    "def simple_tokenize(text):\n",
    "    if isinstance(text, bytes):\n",
    "        text = text.decode(\"utf-8\", errors=\"ignore\")\n",
    "    elif not isinstance(text, str):\n",
    "        text = str(text)\n",
    "    text = re.sub(r\"[^\\w\\s]\", \"\", text)  # remove punctuation\n",
    "    return text.strip().split()\n",
    "\n",
    "corpus = [simple_tokenize(s) for s in all_sentences]"
   ]
  },
  {
   "cell_type": "code",
   "execution_count": 6,
   "id": "3f39c0ea",
   "metadata": {},
   "outputs": [],
   "source": [
    "def ngrams(tokens, n):\n",
    "    return [tuple(tokens[i:i+n]) for i in range(len(tokens)-n+1)]\n",
    "\n",
    "unigrams, bigrams, trigrams, quadgrams = Counter(), Counter(), Counter(), Counter()\n",
    "\n",
    "for sentence in corpus:\n",
    "    unigrams.update(ngrams(sentence, 1))\n",
    "    bigrams.update(ngrams(sentence, 2))\n",
    "    trigrams.update(ngrams(sentence, 3))\n",
    "    quadgrams.update(ngrams(sentence, 4))"
   ]
  },
  {
   "cell_type": "code",
   "execution_count": 7,
   "id": "4f710a1c",
   "metadata": {},
   "outputs": [],
   "source": [
    "class KatzBackoffQuadgram:\n",
    "    def __init__(self, unig, big, trig, quad, discount=0.75):\n",
    "        self.unigrams = unig\n",
    "        self.bigrams = big\n",
    "        self.trigrams = trig\n",
    "        self.quadgrams = quad\n",
    "        self.discount = discount\n",
    "        self.total_unigrams = sum(unig.values())\n",
    "\n",
    "    def prob(self, word, history):\n",
    "        if len(history) < 3:\n",
    "            history = ([\"<s>\"] * (3 - len(history))) + history\n",
    "        hist3 = tuple(history[-3:])\n",
    "        quad_count = self.quadgrams[(hist3 + (word,))]\n",
    "\n",
    "        if quad_count > 0:\n",
    "            return (quad_count - self.discount) / self.trigrams[hist3]\n",
    "        else:\n",
    "            return self.alpha(hist3, self.quadgrams, self.trigrams) * self.prob_trigram(word, history[-2:])\n",
    "\n",
    "    def prob_trigram(self, word, history):\n",
    "        hist2 = tuple(history[-2:])\n",
    "        tri_count = self.trigrams[(hist2 + (word,))]\n",
    "\n",
    "        if tri_count > 0:\n",
    "            return (tri_count - self.discount) / self.bigrams[hist2]\n",
    "        else:\n",
    "            return self.alpha(hist2, self.trigrams, self.bigrams) * self.prob_bigram(word, history[-1:])\n",
    "\n",
    "    def prob_bigram(self, word, history):\n",
    "        hist1 = tuple(history[-1:])\n",
    "        bi_count = self.bigrams[(hist1 + (word,))]\n",
    "\n",
    "        if bi_count > 0:\n",
    "            return (bi_count - self.discount) / self.unigrams[hist1]\n",
    "        else:\n",
    "            return self.alpha(hist1, self.bigrams, self.unigrams) * self.prob_unigram(word)\n",
    "\n",
    "    def prob_unigram(self, word):\n",
    "        return self.unigrams[(word,)] / self.total_unigrams if self.total_unigrams > 0 else 1e-6\n",
    "\n",
    "    def alpha(self, history, higher_order, lower_order):\n",
    "        hist_count = lower_order[history]\n",
    "        if hist_count == 0:\n",
    "            return 1.0\n",
    "        discounted_mass = 0\n",
    "        for (ngram, count) in higher_order.items():\n",
    "            if ngram[:-1] == history and count > 0:\n",
    "                discounted_mass += (count - self.discount) / hist_count\n",
    "        return max(1.0 - discounted_mass, 1e-6)"
   ]
  },
  {
   "cell_type": "code",
   "execution_count": 8,
   "id": "5f2feb57",
   "metadata": {},
   "outputs": [
    {
     "name": "stdout",
     "output_type": "stream",
     "text": [
      "P(ગાંધીનગર | મ્યુનિસિપલ કોર્પોરેશન) = 1e-06\n"
     ]
    }
   ],
   "source": [
    "katz_quad_model = KatzBackoffQuadgram(unigrams, bigrams, trigrams, quadgrams)\n",
    "\n",
    "print(\"P(ગાંધીનગર | મ્યુનિસિપલ કોર્પોરેશન) =\", katz_quad_model.prob(\"ગાંધીનગર\", [\"મ્યુનિસિપલ\", \"કોર્પોરેશન\",]))"
   ]
  },
  {
   "cell_type": "code",
   "execution_count": 9,
   "id": "5aa12d0f",
   "metadata": {},
   "outputs": [],
   "source": [
    "import pickle\n",
    "\n",
    "with open(\"katz_quad_model.pkl\", \"wb\") as f:\n",
    "    pickle.dump(katz_quad_model, f)"
   ]
  }
 ],
 "metadata": {
  "kernelspec": {
   "display_name": "Python 3",
   "language": "python",
   "name": "python3"
  },
  "language_info": {
   "codemirror_mode": {
    "name": "ipython",
    "version": 3
   },
   "file_extension": ".py",
   "mimetype": "text/x-python",
   "name": "python",
   "nbconvert_exporter": "python",
   "pygments_lexer": "ipython3",
   "version": "3.13.2"
  }
 },
 "nbformat": 4,
 "nbformat_minor": 5
}
