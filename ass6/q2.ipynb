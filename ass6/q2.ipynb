{
 "cells": [
  {
   "cell_type": "code",
   "execution_count": 1,
   "id": "bd4c3af0",
   "metadata": {},
   "outputs": [],
   "source": [
    "from collections import Counter, defaultdict\n",
    "import math\n",
    "import pandas as pd\n",
    "import ast"
   ]
  },
  {
   "cell_type": "code",
   "execution_count": 2,
   "id": "bdd970d1",
   "metadata": {},
   "outputs": [],
   "source": [
    "class KneserNeyLM:\n",
    "    def __init__(self, n=4, discount=0.75):\n",
    "        self.n = n  #4 for quadrigram\n",
    "        self.D = discount\n",
    "        self.ngram_counts = [Counter() for _ in range(n)]\n",
    "        self.context_counts = [Counter() for _ in range(n)]\n",
    "        self.vocab = set()\n",
    "\n",
    "    def train(self, corpus):\n",
    "        \n",
    "        for sent in corpus:\n",
    "            sent = [\"<s>\"]*(self.n-1) + sent + [\"</s>\"]\n",
    "            self.vocab.update(sent)\n",
    "\n",
    "            for i in range(len(sent)):\n",
    "                for k in range(1, self.n+1):\n",
    "                    if i-k+1 >= 0:\n",
    "                        ngram = tuple(sent[i-k+1:i+1])\n",
    "                        context = ngram[:-1]\n",
    "                        self.ngram_counts[k-1][ngram] += 1\n",
    "                        self.context_counts[k-1][context] += 1\n",
    "\n",
    "    def prob(self, word, context):\n",
    "        \"\"\"\n",
    "        Compute Kneser-Ney probability P(word | context).\n",
    "        context length = n-1\n",
    "        \"\"\"\n",
    "        return self._kn_prob(tuple(context), word, self.n)\n",
    "\n",
    "    def _kn_prob(self, context, word, order):\n",
    "        if order == 1:\n",
    "            # Continuation probability for unigrams\n",
    "            unique_contexts = sum(1 for ng in self.ngram_counts[0] if ng[0] == word)\n",
    "            total_unique_contexts = len(self.ngram_counts[0])\n",
    "            return unique_contexts / total_unique_contexts if total_unique_contexts > 0 else 1/len(self.vocab)\n",
    "\n",
    "        ngram = context + (word,)\n",
    "        count_ngram = self.ngram_counts[order-1][ngram]\n",
    "        count_context = self.context_counts[order-1][context]\n",
    "\n",
    "        # First term: discounted probability mass\n",
    "        first_term = max(count_ngram - self.D, 0) / count_context if count_context > 0 else 0.0\n",
    "\n",
    "        # Lambda: leftover probability mass redistributed\n",
    "        unique_continuations = len([w for w in self.vocab if self.ngram_counts[order-1][context + (w,)] > 0])\n",
    "        lambda_term = (self.D * unique_continuations) / count_context if count_context > 0 else 1.0\n",
    "\n",
    "        # Recursive backoff\n",
    "        backoff = self._kn_prob(context[1:], word, order-1)\n",
    "\n",
    "        return first_term + lambda_term * backoff"
   ]
  },
  {
   "cell_type": "code",
   "execution_count": 3,
   "id": "b8741d37",
   "metadata": {},
   "outputs": [],
   "source": [
    "df = pd.read_csv(\"../ass5/train.csv\")"
   ]
  },
  {
   "cell_type": "code",
   "execution_count": 5,
   "id": "d4e4cc26",
   "metadata": {},
   "outputs": [
    {
     "name": "stdout",
     "output_type": "stream",
     "text": [
      "Example tokens: ['યુનાઇટેડ', 'સ્ટેટ્સ', 'બ્યુરો', 'ઓફ', 'લેબર', 'સ્ટેટિસ્ટિક્સ', 'અનુસાર,', '2008', 'માં', 'અપરાધ', 'દ્રશ્ય', 'તપાસકર્તાઓ', 'માટેનો', 'સરેરાશ', 'પગાર']\n"
     ]
    }
   ],
   "source": [
    "import ast\n",
    "\n",
    "corpus = []\n",
    "\n",
    "for row in df[\"sentence\"]:\n",
    "    # Step 1: Convert string repr to Python list/dict if possible\n",
    "    if isinstance(row, str):\n",
    "        if row.strip().startswith(\"[\") and row.strip().endswith(\"]\"):\n",
    "            try:\n",
    "                row = ast.literal_eval(row)\n",
    "            except Exception:\n",
    "                # if eval fails, treat as plain text\n",
    "                row = [{\"text\": row}]\n",
    "        else:\n",
    "            row = [{\"text\": row}]\n",
    "    \n",
    "    # Step 2: Extract text and tokenize\n",
    "    for item in row:\n",
    "        text = item.get(\"text\", \"\").strip()\n",
    "        if text:\n",
    "            tokens = text.split()  # simple whitespace tokenization\n",
    "            corpus.append(tokens)\n",
    "\n",
    "print(\"Example tokens:\", corpus[0][:15])\n"
   ]
  },
  {
   "cell_type": "code",
   "execution_count": 6,
   "id": "4cb5cd19",
   "metadata": {},
   "outputs": [
    {
     "name": "stdout",
     "output_type": "stream",
     "text": [
      "P(છે | ચેતવણી પણ આપે) = 0.8082539202130228\n"
     ]
    }
   ],
   "source": [
    "kneser_ney_quad_model = KneserNeyLM(n=4, discount=0.75)\n",
    "kneser_ney_quad_model.train(corpus)\n",
    "\n",
    "context = [\"ચેતવણી\", \"પણ\", \"આપે\"]   \n",
    "word = \"છે\"\n",
    "print(\"P(છે | ચેતવણી પણ આપે) =\", kneser_ney_quad_model.prob(word, context))"
   ]
  },
  {
   "cell_type": "code",
   "execution_count": 7,
   "id": "9b9157a2",
   "metadata": {},
   "outputs": [],
   "source": [
    "import pickle\n",
    "\n",
    "with open(\"kneser_ney_quad_model.pkl\", \"wb\") as f:\n",
    "    pickle.dump(kneser_ney_quad_model, f)"
   ]
  },
  {
   "cell_type": "code",
   "execution_count": null,
   "id": "e944ae97",
   "metadata": {},
   "outputs": [],
   "source": []
  }
 ],
 "metadata": {
  "kernelspec": {
   "display_name": "Python 3",
   "language": "python",
   "name": "python3"
  },
  "language_info": {
   "codemirror_mode": {
    "name": "ipython",
    "version": 3
   },
   "file_extension": ".py",
   "mimetype": "text/x-python",
   "name": "python",
   "nbconvert_exporter": "python",
   "pygments_lexer": "ipython3",
   "version": "3.13.2"
  }
 },
 "nbformat": 4,
 "nbformat_minor": 5
}
