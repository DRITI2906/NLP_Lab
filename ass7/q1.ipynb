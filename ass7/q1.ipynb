{
 "cells": [
  {
   "cell_type": "code",
   "execution_count": 1,
   "id": "3043f2a6",
   "metadata": {},
   "outputs": [],
   "source": [
    "import pandas as pd\n",
    "import pickle\n",
    "import math\n",
    "import re\n"
   ]
  },
  {
   "cell_type": "code",
   "execution_count": 3,
   "id": "36b2c70f",
   "metadata": {},
   "outputs": [
    {
     "name": "stdout",
     "output_type": "stream",
     "text": [
      "Models loaded (unigram size: 1 , bigram size: 8264 )\n"
     ]
    }
   ],
   "source": [
    "with open(\"../ass4/unigram_model.pkl\", \"rb\") as f:\n",
    "    unigram_counts = pickle.load(f)\n",
    "\n",
    "with open(\"../ass4/bigram_model.pkl\", \"rb\") as f:\n",
    "    bigram_counts = pickle.load(f)\n",
    "\n",
    "print(\"Models loaded (unigram size:\", len(unigram_counts), \n",
    "      \", bigram size:\", len(bigram_counts), \")\")"
   ]
  },
  {
   "cell_type": "code",
   "execution_count": 4,
   "metadata": {},
   "outputs": [],
   "source": [
    "def get_count(model, key):\n",
    "    # Unigram: wrap in tuple if string\n",
    "    if isinstance(key, str):\n",
    "        key = (key,)\n",
    "    value = model.get(key, 0)\n",
    "\n",
    "    if isinstance(value, int):\n",
    "        return value\n",
    "    if isinstance(value, dict):\n",
    "        return value.get(\"count\", 0)\n",
    "    if isinstance(value, tuple):\n",
    "        return value[0]\n",
    "    return 0"
   ]
  },
  {
   "cell_type": "code",
   "execution_count": 5,
   "id": "d4aec40a",
   "metadata": {},
   "outputs": [],
   "source": [
    "N = sum(get_count(unigram_counts, k) for k in unigram_counts.keys())"
   ]
  },
  {
   "cell_type": "code",
   "execution_count": 6,
   "id": "10bc8b50",
   "metadata": {},
   "outputs": [],
   "source": [
    "def extract_tokens(df):\n",
    "    tokens = []\n",
    "    for row in df[\"sentences\"]:\n",
    "        if isinstance(row, (list, tuple)) or hasattr(row, \"__iter__\"):\n",
    "            for item in row:\n",
    "                if isinstance(item, dict) and \"tokens\" in item:\n",
    "                    tokens.extend([t for t in item[\"tokens\"] if isinstance(t, str)])\n",
    "    return tokens"
   ]
  },
  {
   "cell_type": "code",
   "execution_count": 7,
   "id": "42846a72",
   "metadata": {},
   "outputs": [],
   "source": [
    "val_df = pd.read_csv(\"../ass5/validation.csv\")\n",
    "test_df = pd.read_csv(\"../ass5/test.csv\")"
   ]
  },
  {
   "cell_type": "code",
   "execution_count": 8,
   "id": "db440407",
   "metadata": {},
   "outputs": [
    {
     "name": "stdout",
     "output_type": "stream",
     "text": [
      "Validation tokens: 2239\n",
      "Test tokens: 2234\n"
     ]
    }
   ],
   "source": [
    "val_tokens = [t for sent in val_df[\"sentence\"] for t in str(sent).split()]\n",
    "test_tokens = [t for sent in test_df[\"sentence\"] for t in str(sent).split()]\n",
    "\n",
    "print(\"Validation tokens:\", len(val_tokens))\n",
    "print(\"Test tokens:\", len(test_tokens))"
   ]
  },
  {
   "cell_type": "code",
   "execution_count": 9,
   "id": "c321652d",
   "metadata": {},
   "outputs": [],
   "source": [
    "def pmi(w1, w2):\n",
    "    # Wrap unigram keys in tuple\n",
    "    c_bigram = get_count(bigram_counts, (w1, w2))\n",
    "    if c_bigram == 0:\n",
    "        return float(\"-inf\")\n",
    "    c_w1 = get_count(unigram_counts, (w1,))   # <-- wrap as tuple\n",
    "    c_w2 = get_count(unigram_counts, (w2,))   # <-- wrap as tuple\n",
    "    return math.log((c_bigram * N) / (c_w1 * c_w2 + 1e-10))"
   ]
  },
  {
   "cell_type": "code",
   "execution_count": 10,
   "id": "43a598ea",
   "metadata": {},
   "outputs": [],
   "source": [
    "def compute_pmi_table(tokens, split_name=\"Validation\"):\n",
    "    bigrams = list(zip(tokens[:-1], tokens[1:]))\n",
    "    records = []\n",
    "    for w1, w2 in bigrams:\n",
    "        records.append({\n",
    "            \"Bigram\": (w1, w2),\n",
    "            \"Count_bigram\": get_count(bigram_counts, (w1, w2)),\n",
    "            \"Count_w1\": get_count(unigram_counts, w1),\n",
    "            \"Count_w2\": get_count(unigram_counts, w2),\n",
    "            \"PMI\": pmi(w1, w2)\n",
    "        })\n",
    "\n",
    "    df = pd.DataFrame(records).drop_duplicates(subset=[\"Bigram\"])\n",
    "    print(f\"\\nTop 10 PMI scores for {split_name} set:\")\n",
    "    display(df.sort_values(\"PMI\", ascending=False).head(10))\n",
    "    return df"
   ]
  },
  {
   "cell_type": "code",
   "execution_count": 11,
   "id": "46b45a08",
   "metadata": {},
   "outputs": [
    {
     "name": "stdout",
     "output_type": "stream",
     "text": [
      "\n",
      "Top 10 PMI scores for Validation set:\n"
     ]
    },
    {
     "data": {
      "text/html": [
       "<div>\n",
       "<style scoped>\n",
       "    .dataframe tbody tr th:only-of-type {\n",
       "        vertical-align: middle;\n",
       "    }\n",
       "\n",
       "    .dataframe tbody tr th {\n",
       "        vertical-align: top;\n",
       "    }\n",
       "\n",
       "    .dataframe thead th {\n",
       "        text-align: right;\n",
       "    }\n",
       "</style>\n",
       "<table border=\"1\" class=\"dataframe\">\n",
       "  <thead>\n",
       "    <tr style=\"text-align: right;\">\n",
       "      <th></th>\n",
       "      <th>Bigram</th>\n",
       "      <th>Count_bigram</th>\n",
       "      <th>Count_w1</th>\n",
       "      <th>Count_w2</th>\n",
       "      <th>PMI</th>\n",
       "    </tr>\n",
       "  </thead>\n",
       "  <tbody>\n",
       "    <tr>\n",
       "      <th>2237</th>\n",
       "      <td>(પ્રમુખ, છે)</td>\n",
       "      <td>0</td>\n",
       "      <td>0</td>\n",
       "      <td>0</td>\n",
       "      <td>-inf</td>\n",
       "    </tr>\n",
       "    <tr>\n",
       "      <th>0</th>\n",
       "      <td>(જે, ધ્યાને)</td>\n",
       "      <td>0</td>\n",
       "      <td>0</td>\n",
       "      <td>0</td>\n",
       "      <td>-inf</td>\n",
       "    </tr>\n",
       "    <tr>\n",
       "      <th>1</th>\n",
       "      <td>(ધ્યાને, લેતા)</td>\n",
       "      <td>0</td>\n",
       "      <td>0</td>\n",
       "      <td>0</td>\n",
       "      <td>-inf</td>\n",
       "    </tr>\n",
       "    <tr>\n",
       "      <th>2</th>\n",
       "      <td>(લેતા, દેશભરમાં)</td>\n",
       "      <td>0</td>\n",
       "      <td>0</td>\n",
       "      <td>0</td>\n",
       "      <td>-inf</td>\n",
       "    </tr>\n",
       "    <tr>\n",
       "      <th>3</th>\n",
       "      <td>(દેશભરમાં, નવીનતમ)</td>\n",
       "      <td>0</td>\n",
       "      <td>0</td>\n",
       "      <td>0</td>\n",
       "      <td>-inf</td>\n",
       "    </tr>\n",
       "    <tr>\n",
       "      <th>4</th>\n",
       "      <td>(નવીનતમ, ટેકનોલોજીનો)</td>\n",
       "      <td>0</td>\n",
       "      <td>0</td>\n",
       "      <td>0</td>\n",
       "      <td>-inf</td>\n",
       "    </tr>\n",
       "    <tr>\n",
       "      <th>5</th>\n",
       "      <td>(ટેકનોલોજીનો, ઉપયોગ)</td>\n",
       "      <td>0</td>\n",
       "      <td>0</td>\n",
       "      <td>0</td>\n",
       "      <td>-inf</td>\n",
       "    </tr>\n",
       "    <tr>\n",
       "      <th>6</th>\n",
       "      <td>(ઉપયોગ, કરીને)</td>\n",
       "      <td>0</td>\n",
       "      <td>0</td>\n",
       "      <td>0</td>\n",
       "      <td>-inf</td>\n",
       "    </tr>\n",
       "    <tr>\n",
       "      <th>7</th>\n",
       "      <td>(કરીને, એકીસાથે)</td>\n",
       "      <td>0</td>\n",
       "      <td>0</td>\n",
       "      <td>0</td>\n",
       "      <td>-inf</td>\n",
       "    </tr>\n",
       "    <tr>\n",
       "      <th>2221</th>\n",
       "      <td>(છે, તેની)</td>\n",
       "      <td>0</td>\n",
       "      <td>0</td>\n",
       "      <td>0</td>\n",
       "      <td>-inf</td>\n",
       "    </tr>\n",
       "  </tbody>\n",
       "</table>\n",
       "</div>"
      ],
      "text/plain": [
       "                     Bigram  Count_bigram  Count_w1  Count_w2  PMI\n",
       "2237           (પ્રમુખ, છે)             0         0         0 -inf\n",
       "0              (જે, ધ્યાને)             0         0         0 -inf\n",
       "1            (ધ્યાને, લેતા)             0         0         0 -inf\n",
       "2          (લેતા, દેશભરમાં)             0         0         0 -inf\n",
       "3        (દેશભરમાં, નવીનતમ)             0         0         0 -inf\n",
       "4     (નવીનતમ, ટેકનોલોજીનો)             0         0         0 -inf\n",
       "5      (ટેકનોલોજીનો, ઉપયોગ)             0         0         0 -inf\n",
       "6            (ઉપયોગ, કરીને)             0         0         0 -inf\n",
       "7          (કરીને, એકીસાથે)             0         0         0 -inf\n",
       "2221             (છે, તેની)             0         0         0 -inf"
      ]
     },
     "metadata": {},
     "output_type": "display_data"
    },
    {
     "name": "stdout",
     "output_type": "stream",
     "text": [
      "\n",
      "Top 10 PMI scores for Test set:\n"
     ]
    },
    {
     "data": {
      "text/html": [
       "<div>\n",
       "<style scoped>\n",
       "    .dataframe tbody tr th:only-of-type {\n",
       "        vertical-align: middle;\n",
       "    }\n",
       "\n",
       "    .dataframe tbody tr th {\n",
       "        vertical-align: top;\n",
       "    }\n",
       "\n",
       "    .dataframe thead th {\n",
       "        text-align: right;\n",
       "    }\n",
       "</style>\n",
       "<table border=\"1\" class=\"dataframe\">\n",
       "  <thead>\n",
       "    <tr style=\"text-align: right;\">\n",
       "      <th></th>\n",
       "      <th>Bigram</th>\n",
       "      <th>Count_bigram</th>\n",
       "      <th>Count_w1</th>\n",
       "      <th>Count_w2</th>\n",
       "      <th>PMI</th>\n",
       "    </tr>\n",
       "  </thead>\n",
       "  <tbody>\n",
       "    <tr>\n",
       "      <th>2231</th>\n",
       "      <td>(પ્રસિદ્ધ, થાય)</td>\n",
       "      <td>0</td>\n",
       "      <td>0</td>\n",
       "      <td>0</td>\n",
       "      <td>-inf</td>\n",
       "    </tr>\n",
       "    <tr>\n",
       "      <th>0</th>\n",
       "      <td>(રાત્રીના, સમયે)</td>\n",
       "      <td>0</td>\n",
       "      <td>0</td>\n",
       "      <td>0</td>\n",
       "      <td>-inf</td>\n",
       "    </tr>\n",
       "    <tr>\n",
       "      <th>1</th>\n",
       "      <td>(સમયે, એકલ)</td>\n",
       "      <td>0</td>\n",
       "      <td>0</td>\n",
       "      <td>0</td>\n",
       "      <td>-inf</td>\n",
       "    </tr>\n",
       "    <tr>\n",
       "      <th>2</th>\n",
       "      <td>(એકલ, દોકલ)</td>\n",
       "      <td>0</td>\n",
       "      <td>0</td>\n",
       "      <td>0</td>\n",
       "      <td>-inf</td>\n",
       "    </tr>\n",
       "    <tr>\n",
       "      <th>3</th>\n",
       "      <td>(દોકલ, વ્યકિત)</td>\n",
       "      <td>0</td>\n",
       "      <td>0</td>\n",
       "      <td>0</td>\n",
       "      <td>-inf</td>\n",
       "    </tr>\n",
       "    <tr>\n",
       "      <th>4</th>\n",
       "      <td>(વ્યકિત, દેખાય)</td>\n",
       "      <td>0</td>\n",
       "      <td>0</td>\n",
       "      <td>0</td>\n",
       "      <td>-inf</td>\n",
       "    </tr>\n",
       "    <tr>\n",
       "      <th>5</th>\n",
       "      <td>(દેખાય, તો)</td>\n",
       "      <td>0</td>\n",
       "      <td>0</td>\n",
       "      <td>0</td>\n",
       "      <td>-inf</td>\n",
       "    </tr>\n",
       "    <tr>\n",
       "      <th>6</th>\n",
       "      <td>(તો, તેના)</td>\n",
       "      <td>0</td>\n",
       "      <td>0</td>\n",
       "      <td>0</td>\n",
       "      <td>-inf</td>\n",
       "    </tr>\n",
       "    <tr>\n",
       "      <th>7</th>\n",
       "      <td>(તેના, વાહનને)</td>\n",
       "      <td>0</td>\n",
       "      <td>0</td>\n",
       "      <td>0</td>\n",
       "      <td>-inf</td>\n",
       "    </tr>\n",
       "    <tr>\n",
       "      <th>2215</th>\n",
       "      <td>(જોઈએ, તે)</td>\n",
       "      <td>0</td>\n",
       "      <td>0</td>\n",
       "      <td>0</td>\n",
       "      <td>-inf</td>\n",
       "    </tr>\n",
       "  </tbody>\n",
       "</table>\n",
       "</div>"
      ],
      "text/plain": [
       "                Bigram  Count_bigram  Count_w1  Count_w2  PMI\n",
       "2231   (પ્રસિદ્ધ, થાય)             0         0         0 -inf\n",
       "0     (રાત્રીના, સમયે)             0         0         0 -inf\n",
       "1          (સમયે, એકલ)             0         0         0 -inf\n",
       "2          (એકલ, દોકલ)             0         0         0 -inf\n",
       "3       (દોકલ, વ્યકિત)             0         0         0 -inf\n",
       "4      (વ્યકિત, દેખાય)             0         0         0 -inf\n",
       "5          (દેખાય, તો)             0         0         0 -inf\n",
       "6           (તો, તેના)             0         0         0 -inf\n",
       "7       (તેના, વાહનને)             0         0         0 -inf\n",
       "2215        (જોઈએ, તે)             0         0         0 -inf"
      ]
     },
     "metadata": {},
     "output_type": "display_data"
    }
   ],
   "source": [
    "val_pmi  = compute_pmi_table(val_tokens, \"Validation\")\n",
    "test_pmi = compute_pmi_table(test_tokens, \"Test\")"
   ]
  },
  {
   "cell_type": "code",
   "execution_count": 12,
   "id": "007a076b",
   "metadata": {},
   "outputs": [
    {
     "name": "stdout",
     "output_type": "stream",
     "text": [
      "\n",
      "PMI tables saved\n"
     ]
    }
   ],
   "source": [
    "val_pmi.to_parquet(\"validation_pmi.parquet\", index=False)\n",
    "test_pmi.to_parquet(\"test_pmi.parquet\", index=False)\n",
    "\n",
    "print(\"\\nPMI tables saved\")"
   ]
  },
  {
   "cell_type": "code",
   "execution_count": 13,
   "id": "1ff26c73",
   "metadata": {},
   "outputs": [
    {
     "name": "stdout",
     "output_type": "stream",
     "text": [
      "Example val token: ધ્યાને\n",
      "As tuple: ('ધ્યાને',)\n",
      "Unigram exists in model: False\n",
      "Raw string exists: False\n"
     ]
    }
   ],
   "source": [
    "print(\"Example val token:\", val_tokens[1])\n",
    "print(\"As tuple:\", (val_tokens[1],))\n",
    "print(\"Unigram exists in model:\", (val_tokens[1],) in unigram_counts)\n",
    "print(\"Raw string exists:\", val_tokens[1] in unigram_counts)"
   ]
  },
  {
   "cell_type": "code",
   "execution_count": 14,
   "id": "1c8f0b07",
   "metadata": {},
   "outputs": [
    {
     "name": "stdout",
     "output_type": "stream",
     "text": [
      "Example val bigram: ('લેતા', 'દેશભરમાં')\n",
      "Exists in bigram model: False\n"
     ]
    }
   ],
   "source": [
    "print(\"Example val bigram:\", (val_tokens[2], val_tokens[3]))\n",
    "print(\"Exists in bigram model:\", (val_tokens[2], val_tokens[3]) in bigram_counts)"
   ]
  }
 ],
 "metadata": {
  "kernelspec": {
   "display_name": "Python 3",
   "language": "python",
   "name": "python3"
  },
  "language_info": {
   "codemirror_mode": {
    "name": "ipython",
    "version": 3
   },
   "file_extension": ".py",
   "mimetype": "text/x-python",
   "name": "python",
   "nbconvert_exporter": "python",
   "pygments_lexer": "ipython3",
   "version": "3.13.2"
  }
 },
 "nbformat": 4,
 "nbformat_minor": 5
}
