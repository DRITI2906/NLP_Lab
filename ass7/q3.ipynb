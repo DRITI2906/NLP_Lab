{
 "cells": [
  {
   "cell_type": "code",
   "execution_count": 2,
   "id": "8594f961",
   "metadata": {},
   "outputs": [],
   "source": [
    "import pandas as pd\n",
    "from sklearn.feature_extraction.text import TfidfVectorizer\n",
    "from sklearn.metrics.pairwise import cosine_similarity\n",
    "import numpy as np"
   ]
  },
  {
   "cell_type": "code",
   "execution_count": 3,
   "metadata": {},
   "outputs": [],
   "source": [
    "train_df = pd.read_csv('../ass5/train.csv')\n",
    "val_df = pd.read_csv('../ass5/validation.csv')\n",
    "test_df = pd.read_csv('../ass5/test.csv')"
   ]
  },
  {
   "cell_type": "code",
   "execution_count": 4,
   "metadata": {},
   "outputs": [
    {
     "name": "stdout",
     "output_type": "stream",
     "text": [
      "Validation columns: Index(['sentence'], dtype='object')\n",
      "Test columns: Index(['sentence'], dtype='object')\n",
      "Validation size: 154\n",
      "Test size: 156\n"
     ]
    }
   ],
   "source": [
    "print(\"Validation columns:\", val_df.columns)\n",
    "print(\"Test columns:\", test_df.columns)\n",
    "print(\"Validation size:\", len(val_df))\n",
    "print(\"Test size:\", len(test_df))"
   ]
  },
  {
   "cell_type": "code",
   "execution_count": 5,
   "metadata": {},
   "outputs": [],
   "source": [
    "train_sentences = train_df['sentence'].astype(str).tolist()\n",
    "val_sentences = val_df['sentence'].astype(str).tolist()\n",
    "test_sentences = test_df['sentence'].astype(str).tolist()\n"
   ]
  },
  {
   "cell_type": "code",
   "execution_count": 6,
   "id": "58024e52",
   "metadata": {},
   "outputs": [],
   "source": [
    "vectorizer = TfidfVectorizer()\n",
    "val_tfidf = vectorizer.fit_transform(val_sentences)\n",
    "test_tfidf = vectorizer.fit_transform(test_sentences)"
   ]
  },
  {
   "cell_type": "code",
   "execution_count": 7,
   "id": "4f5499b5",
   "metadata": {},
   "outputs": [],
   "source": [
    "val_sim_matrix = cosine_similarity(val_tfidf)\n",
    "test_sim_matrix = cosine_similarity(test_tfidf)"
   ]
  },
  {
   "cell_type": "code",
   "execution_count": 8,
   "id": "e4241f60",
   "metadata": {},
   "outputs": [],
   "source": [
    "np.fill_diagonal(val_sim_matrix, -1)\n",
    "np.fill_diagonal(test_sim_matrix, -1)"
   ]
  },
  {
   "cell_type": "code",
   "execution_count": 9,
   "id": "ceeb11d8",
   "metadata": {},
   "outputs": [],
   "source": [
    "val_nn_idx = val_sim_matrix.argmax(axis=1)\n",
    "test_nn_idx = test_sim_matrix.argmax(axis=1)"
   ]
  },
  {
   "cell_type": "code",
   "execution_count": 10,
   "id": "7cba8385",
   "metadata": {},
   "outputs": [],
   "source": [
    "val_df['nearest_neighbor_idx'] = val_nn_idx\n",
    "val_df['nearest_neighbor_sentence'] = [val_sentences[i] for i in val_nn_idx]\n",
    "test_df['nearest_neighbor_idx'] = test_nn_idx\n",
    "test_df['nearest_neighbor_sentence'] = [test_sentences[i] for i in test_nn_idx]"
   ]
  },
  {
   "cell_type": "code",
   "execution_count": 13,
   "id": "1df26668",
   "metadata": {},
   "outputs": [
    {
     "name": "stdout",
     "output_type": "stream",
     "text": [
      "                                            sentence  \\\n",
      "0  જે ધ્યાને લેતા દેશભરમાં નવીનતમ ટેકનોલોજીનો ઉપય...   \n",
      "1                                  11. આ રમત \"સાપની\"   \n",
      "2  એક માદા સ્વપ્ન પુસ્તક એવી સ્ત્રીને પ્રિય પ્રણય...   \n",
      "3  કોર્ટે એવું અવલોકન કર્યુ છે કે પ્રથમદર્શનીય રી...   \n",
      "4     આને લીધે આ સ્મારક શૂન્ય ઊર્જા પ્રોજેક્ટ બને છે   \n",
      "\n",
      "                           nearest_neighbor_sentence  \n",
      "0                              મિથેનોલ આવ્યો ક્યાંથી  \n",
      "1  જે ધ્યાને લેતા દેશભરમાં નવીનતમ ટેકનોલોજીનો ઉપય...  \n",
      "2  ગુજરાતે આ ઇન્ડેક્ષમાં જુદા જુદા પેરામીટર્સના જ...  \n",
      "3  બાળકોની આગળની સાયકલ સીટને 15 કિલો વજનવાળા બાળક...  \n",
      "4  રજાઓ અને સપ્તાહના અંતે, ઘણાં દેશ, માછીમારી, પ્...  \n"
     ]
    }
   ],
   "source": [
    "print(val_df[['sentence', 'nearest_neighbor_sentence']].head())"
   ]
  },
  {
   "cell_type": "code",
   "execution_count": null,
   "id": "5b177bc5",
   "metadata": {},
   "outputs": [],
   "source": [
    "val_df.to_parquet(\"validation_with_neighbors.parquet\", index=False)\n",
    "test_df.to_parquet(\"test_with_neighbors.parquet\", index=False)"
   ]
  }
 ],
 "metadata": {
  "kernelspec": {
   "display_name": "Python 3",
   "language": "python",
   "name": "python3"
  },
  "language_info": {
   "codemirror_mode": {
    "name": "ipython",
    "version": 3
   },
   "file_extension": ".py",
   "mimetype": "text/x-python",
   "name": "python",
   "nbconvert_exporter": "python",
   "pygments_lexer": "ipython3",
   "version": "3.13.2"
  }
 },
 "nbformat": 4,
 "nbformat_minor": 5
}
