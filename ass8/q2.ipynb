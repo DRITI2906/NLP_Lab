{
 "cells": [
  {
   "cell_type": "code",
   "execution_count": 1,
   "id": "f2fdb387",
   "metadata": {},
   "outputs": [],
   "source": [
    "import re\n",
    "from collections import Counter, defaultdict"
   ]
  },
  {
   "cell_type": "code",
   "execution_count": 2,
   "id": "503e1e46",
   "metadata": {},
   "outputs": [],
   "source": [
    "sentences = [\n",
    "    \"The boy hugs the cat.\",\n",
    "    \"The boys are hugging the dogs.\",\n",
    "    \"The dogs are chasing the cats.\",\n",
    "    \"The dog and the cat sit quietly.\",\n",
    "    \"The boy is sitting on the dog.\"\n",
    "]"
   ]
  },
  {
   "cell_type": "code",
   "execution_count": 3,
   "id": "5f126657",
   "metadata": {},
   "outputs": [],
   "source": [
    "def preprocess(sent):\n",
    "    sent = sent.lower()\n",
    "    sent = re.sub(r'[^\\w\\s]', '', sent)  # remove punctuation\n",
    "    return sent.split()\n",
    "\n",
    "tokenized_corpus = [preprocess(s) for s in sentences]"
   ]
  },
  {
   "cell_type": "code",
   "execution_count": 4,
   "id": "76c2f3a9",
   "metadata": {},
   "outputs": [],
   "source": [
    "def word_to_chars(word):\n",
    "    return list(word) + [\"</w>\"] #word endings to prevent merges across words"
   ]
  },
  {
   "cell_type": "code",
   "execution_count": 5,
   "id": "ec340a0b",
   "metadata": {},
   "outputs": [],
   "source": [
    "vocab = Counter()\n",
    "for sentence in tokenized_corpus:\n",
    "    for word in sentence:\n",
    "        vocab[\" \".join(word_to_chars(word))] += 1"
   ]
  },
  {
   "cell_type": "code",
   "execution_count": 6,
   "id": "db234e4a",
   "metadata": {},
   "outputs": [],
   "source": [
    "def pair_freq(vocab):\n",
    "    #frequency of pairs of symbols\n",
    "    pairs = defaultdict(int)\n",
    "    for word, freq in vocab.items():\n",
    "        symbols = word.split()\n",
    "        for i in range(len(symbols) - 1):\n",
    "            pairs[(symbols[i], symbols[i + 1])] += freq\n",
    "    return pairs"
   ]
  },
  {
   "cell_type": "code",
   "execution_count": 7,
   "id": "6e03d4b6",
   "metadata": {},
   "outputs": [],
   "source": [
    "def merge_vocab(pair, vocab_in):\n",
    "    vocab_out = {}\n",
    "    bigram = re.escape(' '.join(pair))\n",
    "    p = re.compile(r'(?<!\\S)' + bigram + r'(?!\\S)')\n",
    "    for word in vocab_in:\n",
    "        w_out = p.sub(''.join(pair), word)\n",
    "        vocab_out[w_out] = vocab_in[word]\n",
    "    return vocab_out"
   ]
  },
  {
   "cell_type": "code",
   "execution_count": 8,
   "id": "137264a0",
   "metadata": {},
   "outputs": [
    {
     "name": "stdout",
     "output_type": "stream",
     "text": [
      "Merge 1: ('e', '</w>')\n",
      "Merge 2: ('t', 'h')\n",
      "Merge 3: ('th', 'e</w>')\n",
      "Merge 4: ('s', '</w>')\n",
      "Merge 5: ('g', '</w>')\n",
      "Merge 6: ('d', 'o')\n",
      "Merge 7: ('b', 'o')\n",
      "Merge 8: ('bo', 'y')\n",
      "Merge 9: ('g', 's</w>')\n",
      "Merge 10: ('c', 'a')\n",
      "Merge 11: ('ca', 't')\n",
      "Merge 12: ('i', 'n')\n",
      "Merge 13: ('in', 'g</w>')\n",
      "Merge 14: ('boy', '</w>')\n",
      "Merge 15: ('h', 'u')\n",
      "Merge 16: ('cat', '</w>')\n",
      "Merge 17: ('a', 'r')\n",
      "Merge 18: ('ar', 'e</w>')\n",
      "Merge 19: ('do', 'gs</w>')\n",
      "Merge 20: ('do', 'g</w>')\n"
     ]
    }
   ],
   "source": [
    "num_merges = 20\n",
    "for i in range(num_merges):\n",
    "    pairs = pair_freq(vocab)\n",
    "    if not pairs:\n",
    "        break\n",
    "    best = max(pairs, key=pairs.get)\n",
    "    vocab = merge_vocab(best, vocab)\n",
    "    print(f\"Merge {i+1}: {best}\")"
   ]
  },
  {
   "cell_type": "code",
   "execution_count": 9,
   "id": "51a5c461",
   "metadata": {},
   "outputs": [
    {
     "name": "stdout",
     "output_type": "stream",
     "text": [
      "\n",
      "Final WordPiece Vocabulary:\n",
      " {'t', 'g', 'are</w>', 'e', 'the</w>', 'a', 'n', 's', 'o', 'y', 'i', 'q', 's</w>', 'u', 'cat', 'c', 'gs</w>', 'boy', 'cat</w>', 'hu', 'd', '</w>', 'dogs</w>', 'h', 'ing</w>', 'boy</w>', 'dog</w>', 'l'}\n"
     ]
    }
   ],
   "source": [
    "final_vocab = set()\n",
    "for word in vocab:\n",
    "    for token in word.split():\n",
    "        final_vocab.add(token)\n",
    "print(\"\\nFinal WordPiece Vocabulary:\\n\", final_vocab)"
   ]
  },
  {
   "cell_type": "code",
   "execution_count": 10,
   "id": "f617d596",
   "metadata": {},
   "outputs": [],
   "source": [
    "def wordpiece_tokenize(word, vocab):\n",
    "    word = list(word) + [\"</w>\"]\n",
    "    tokens = []\n",
    "    i = 0\n",
    "    while i < len(word):\n",
    "        j = len(word)\n",
    "        while j > i:\n",
    "            piece = \"\".join(word[i:j])\n",
    "            if piece in vocab:\n",
    "                tokens.append(piece)\n",
    "                i = j\n",
    "                break\n",
    "            j -= 1\n",
    "        else:\n",
    "            tokens.append(\"[UNK]\")\n",
    "            break\n",
    "    return tokens"
   ]
  },
  {
   "cell_type": "code",
   "execution_count": 11,
   "id": "43e0f647",
   "metadata": {},
   "outputs": [
    {
     "name": "stdout",
     "output_type": "stream",
     "text": [
      "\n",
      "Tokenization of test sentence:\n",
      " ['the</w>', 'cat</w>', 'i', 's</w>', 'c', 'h', 'a', 's', 'ing</w>', 'the</w>', 'dog</w>', 'q', 'u', 'i', 'e', 't', 'l', 'y', '</w>']\n"
     ]
    }
   ],
   "source": [
    "test_sentence = \"The cat is chasing the dog quietly.\"\n",
    "test_tokens = preprocess(test_sentence)\n",
    "\n",
    "output_tokens = []\n",
    "for word in test_tokens:\n",
    "    output_tokens.extend(wordpiece_tokenize(word, final_vocab))\n",
    "\n",
    "print(\"\\nTokenization of test sentence:\\n\", output_tokens)"
   ]
  }
 ],
 "metadata": {
  "kernelspec": {
   "display_name": "Python 3",
   "language": "python",
   "name": "python3"
  },
  "language_info": {
   "codemirror_mode": {
    "name": "ipython",
    "version": 3
   },
   "file_extension": ".py",
   "mimetype": "text/x-python",
   "name": "python",
   "nbconvert_exporter": "python",
   "pygments_lexer": "ipython3",
   "version": "3.13.2"
  }
 },
 "nbformat": 4,
 "nbformat_minor": 5
}
